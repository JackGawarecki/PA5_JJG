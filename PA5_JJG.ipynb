{
 "cells": [
  {
   "cell_type": "markdown",
   "id": "25317680",
   "metadata": {},
   "source": [
    "# Programming Assignment 5\n",
    "## Jackson Gawarecki\n",
    "### Version: 1\n",
    "#### CS150 Fall 2021"
   ]
  },
  {
   "cell_type": "markdown",
   "id": "2e60ea71",
   "metadata": {},
   "source": [
    "# A"
   ]
  },
  {
   "cell_type": "code",
   "execution_count": 39,
   "id": "2eae282a",
   "metadata": {},
   "outputs": [
    {
     "name": "stdout",
     "output_type": "stream",
     "text": [
      "Give an english word one-twenty for a Spanish translation (Enter 0 to stop): one\n",
      "uno\n",
      "Give an english word one-twenty for a Spanish translation (Enter 0 to stop): two\n",
      "dos\n",
      "Give an english word one-twenty for a Spanish translation (Enter 0 to stop): three\n",
      "tres\n",
      "Give an english word one-twenty for a Spanish translation (Enter 0 to stop): 0\n"
     ]
    }
   ],
   "source": [
    "Translator={'one':'uno','two':'dos','three':'tres','four':'cuatro','five':'cinco',\n",
    "            'six':'seis','seven':'siete','eight':'ocho','nine':'nueve','ten':'diez',\n",
    "            'eleven':'once','twelve':'doce','thirteen':'trece','fourtneen':'catorce','fifteen':'quince',\n",
    "            'sixteen':'dieciseis','seventeen':'diecisiete','eighteen':'dieciocho','nineteen':'diecinueve','twenty':'veinte'\n",
    "    }\n",
    "word=input(\"Give an english word one-twenty for a Spanish translation (Enter 0 to stop): \")\n",
    "while True:\n",
    "        if word=='0':\n",
    "            break\n",
    "        else:\n",
    "            print(Translator[word])\n",
    "            word=input(\"Give an english word one-twenty for a Spanish translation (Enter 0 to stop): \")"
   ]
  },
  {
   "cell_type": "markdown",
   "id": "899b75ea",
   "metadata": {},
   "source": [
    "# B"
   ]
  },
  {
   "cell_type": "code",
   "execution_count": 36,
   "id": "660c9fc7",
   "metadata": {},
   "outputs": [
    {
     "name": "stdout",
     "output_type": "stream",
     "text": [
      "The coolest day was on September  22\n",
      "The second hottest day was on September  14\n"
     ]
    },
    {
     "data": {
      "text/plain": [
       "{1: 15.222222222222221,\n",
       " 2: 14.111111111111114,\n",
       " 3: 14.666666666666664,\n",
       " 4: 14.666666666666664,\n",
       " 5: 13.555555555555557,\n",
       " 6: 16.333333333333336,\n",
       " 7: 15.777777777777779,\n",
       " 8: 15.222222222222221,\n",
       " 9: 13.0,\n",
       " 10: 13.555555555555557,\n",
       " 11: 14.666666666666664,\n",
       " 12: 16.333333333333336,\n",
       " 13: 17.444444444444443,\n",
       " 14: 18.0,\n",
       " 15: 14.666666666666664,\n",
       " 16: 15.222222222222221,\n",
       " 17: 17.444444444444443,\n",
       " 18: 17.444444444444443,\n",
       " 19: 15.777777777777779,\n",
       " 20: 11.333333333333336,\n",
       " 21: 11.333333333333336,\n",
       " 22: 6.888888888888886,\n",
       " 23: 7.444444444444443,\n",
       " 24: 9.666666666666664,\n",
       " 25: 10.777777777777779,\n",
       " 26: 10.777777777777779,\n",
       " 27: 15.222222222222221,\n",
       " 28: 16.333333333333336,\n",
       " 29: 18.555555555555557,\n",
       " 30: 15.777777777777779}"
      ]
     },
     "execution_count": 36,
     "metadata": {},
     "output_type": "execute_result"
    }
   ],
   "source": [
    "SepTemp={1:85,2:83,3:84,4:84,5:82,6:87,7:86,8:85,9:81,10:82,11:84,12:87,13:89,\n",
    "        14:90,15:84,16:85,17:89,18:89,19:86,20:78,21:78,22:70,23:71,24:75,25:77,\n",
    "         26:77,27:85,28:87,29:91,30:86}\n",
    "x=list(SepTemp.values())\n",
    "y=list(SepTemp.keys())\n",
    "import numpy as np\n",
    "feh=np.array(x)\n",
    "cel=(5*feh/9-32)\n",
    "SepTemp=dict(zip(y,cel))\n",
    "\n",
    "coolest=min(SepTemp.values())\n",
    "for key in SepTemp:\n",
    "    if SepTemp[key]==coolest:\n",
    "        print(\"The coolest day was on September \", key)\n",
    "max2= (list(sorted(SepTemp.values()))[-2])\n",
    "for key in SepTemp:\n",
    "    if SepTemp[key]==max2:\n",
    "        print(\"The second hottest day was on September \", key)\n",
    "SepTemp"
   ]
  },
  {
   "cell_type": "markdown",
   "id": "ebaf6214",
   "metadata": {},
   "source": [
    "# C"
   ]
  },
  {
   "cell_type": "markdown",
   "id": "558fa37c",
   "metadata": {},
   "source": [
    "# symmetric difference (^)\n",
    "## elements of both sets that are not in common with each other will be shown"
   ]
  },
  {
   "cell_type": "code",
   "execution_count": 25,
   "id": "2d47954f",
   "metadata": {},
   "outputs": [
    {
     "data": {
      "text/plain": [
       "{21, 43, 55}"
      ]
     },
     "execution_count": 25,
     "metadata": {},
     "output_type": "execute_result"
    }
   ],
   "source": [
    "set1={33,22,77,44}\n",
    "set2={33,55,21,43,22,77,44}\n",
    "set1^set2"
   ]
  },
  {
   "cell_type": "markdown",
   "id": "fa97b336",
   "metadata": {},
   "source": [
    "# .isdisjoint()\n",
    "## returns True if no items in Set A is present in Set B"
   ]
  },
  {
   "cell_type": "code",
   "execution_count": 26,
   "id": "024a9554",
   "metadata": {},
   "outputs": [
    {
     "data": {
      "text/plain": [
       "False"
      ]
     },
     "execution_count": 26,
     "metadata": {},
     "output_type": "execute_result"
    }
   ],
   "source": [
    "set1={33,22,77,44}\n",
    "set2={33,55,21,43,22,77,44}\n",
    "set1.isdisjoint(set2)"
   ]
  },
  {
   "cell_type": "code",
   "execution_count": 27,
   "id": "c39ed840",
   "metadata": {},
   "outputs": [
    {
     "data": {
      "text/plain": [
       "False"
      ]
     },
     "execution_count": 27,
     "metadata": {},
     "output_type": "execute_result"
    }
   ],
   "source": [
    "set2.isdisjoint(set1)"
   ]
  },
  {
   "cell_type": "markdown",
   "id": "83554de4",
   "metadata": {},
   "source": [
    "# intersection_update(&=)\n",
    "## method removes the items that is not present in both sets"
   ]
  },
  {
   "cell_type": "code",
   "execution_count": 29,
   "id": "70ced5ea",
   "metadata": {},
   "outputs": [
    {
     "name": "stdout",
     "output_type": "stream",
     "text": [
      "{33, 44, 77, 22}\n"
     ]
    }
   ],
   "source": [
    "set1a={33,22,77,44}\n",
    "set2a={33,55,21,43,22,77,44}\n",
    "set1a&=set2a\n",
    "print(set1a)"
   ]
  },
  {
   "cell_type": "markdown",
   "id": "e96e76e8",
   "metadata": {},
   "source": [
    "# symmetric_difference (^=)\n",
    "## method returns a set that contains all items from both set, but not the items that are present in both sets"
   ]
  },
  {
   "cell_type": "code",
   "execution_count": 31,
   "id": "e5ba643e",
   "metadata": {},
   "outputs": [
    {
     "name": "stdout",
     "output_type": "stream",
     "text": [
      "{43, 21, 55}\n"
     ]
    }
   ],
   "source": [
    "set1b={33,22,77,44}\n",
    "set2b={33,55,21,43,22,77,44}\n",
    "set1b^=set2b\n",
    "print(set1b)"
   ]
  },
  {
   "cell_type": "markdown",
   "id": "b4c07737",
   "metadata": {},
   "source": [
    "# remove(), discard(), pop()\n",
    "## remove an item from a set (discard generates no error)\n",
    "### pop removes the last element"
   ]
  },
  {
   "cell_type": "code",
   "execution_count": 32,
   "id": "4855da2a",
   "metadata": {},
   "outputs": [
    {
     "data": {
      "text/plain": [
       "{22, 44, 77}"
      ]
     },
     "execution_count": 32,
     "metadata": {},
     "output_type": "execute_result"
    }
   ],
   "source": [
    "set1={33,22,77,44}\n",
    "set2={33,55,21,43,22,77,44}\n",
    "set1.remove(33)\n",
    "set1"
   ]
  },
  {
   "cell_type": "code",
   "execution_count": 34,
   "id": "244bfc75",
   "metadata": {},
   "outputs": [
    {
     "data": {
      "text/plain": [
       "{22, 77}"
      ]
     },
     "execution_count": 34,
     "metadata": {},
     "output_type": "execute_result"
    }
   ],
   "source": [
    "set1.discard(44)\n",
    "set1"
   ]
  },
  {
   "cell_type": "code",
   "execution_count": 35,
   "id": "4bec0b48",
   "metadata": {},
   "outputs": [
    {
     "data": {
      "text/plain": [
       "{21, 22, 43, 44, 55, 77}"
      ]
     },
     "execution_count": 35,
     "metadata": {},
     "output_type": "execute_result"
    }
   ],
   "source": [
    "set2.pop()\n",
    "set2"
   ]
  }
 ],
 "metadata": {
  "kernelspec": {
   "display_name": "Python 3",
   "language": "python",
   "name": "python3"
  },
  "language_info": {
   "codemirror_mode": {
    "name": "ipython",
    "version": 3
   },
   "file_extension": ".py",
   "mimetype": "text/x-python",
   "name": "python",
   "nbconvert_exporter": "python",
   "pygments_lexer": "ipython3",
   "version": "3.8.8"
  }
 },
 "nbformat": 4,
 "nbformat_minor": 5
}
