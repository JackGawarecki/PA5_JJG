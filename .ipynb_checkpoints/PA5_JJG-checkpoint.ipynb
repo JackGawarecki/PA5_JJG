{
 "cells": [
  {
   "cell_type": "markdown",
   "id": "25317680",
   "metadata": {},
   "source": [
    "# Programming Assignment 5\n",
    "## Jackson Gawarecki\n",
    "### Version: 1\n",
    "#### CS150 Fall 2021"
   ]
  },
  {
   "cell_type": "markdown",
   "id": "2e60ea71",
   "metadata": {},
   "source": [
    "# A"
   ]
  },
  {
   "cell_type": "code",
   "execution_count": 24,
   "id": "2eae282a",
   "metadata": {},
   "outputs": [
    {
     "name": "stdout",
     "output_type": "stream",
     "text": [
      "Give an english word one-twenty for a Spanish translation (Enter 0 to stop): one\n",
      "uno\n",
      "Give an english word one-twenty for a Spanish translation (Enter 0 to stop): two\n",
      "dos\n",
      "Give an english word one-twenty for a Spanish translation (Enter 0 to stop): 0\n"
     ]
    }
   ],
   "source": [
    "Translator={'one':'uno','two':'dos','three':'tres','four':'cuatro','five':'cinco',\n",
    "            'six':'seis','seven':'siete','eight':'ocho','nine':'nueve','ten':'diez',\n",
    "            'eleven':'once','twelve':'doce','thirteen':'trece','fourtneen':'catorce','fifteen':'quince',\n",
    "            'sixteen':'dieciseis','seventeen':'diecisiete','eighteen':'dieciocho','nineteen':'diecinueve','twenty':'veinte'\n",
    "    }\n",
    "word=input(\"Give an english word one-twenty for a Spanish translation (Enter 0 to stop): \")\n",
    "while True:\n",
    "        if word=='0':\n",
    "            break\n",
    "        else:\n",
    "            print(Translator[word])\n",
    "            word=input(\"Give an english word one-twenty for a Spanish translation (Enter 0 to stop): \")"
   ]
  },
  {
   "cell_type": "markdown",
   "id": "899b75ea",
   "metadata": {},
   "source": [
    "# B"
   ]
  },
  {
   "cell_type": "code",
   "execution_count": null,
   "id": "660c9fc7",
   "metadata": {},
   "outputs": [],
   "source": []
  },
  {
   "cell_type": "markdown",
   "id": "ebaf6214",
   "metadata": {},
   "source": [
    "# C"
   ]
  },
  {
   "cell_type": "markdown",
   "id": "558fa37c",
   "metadata": {},
   "source": [
    "# symmetric difference (^)\n",
    "## elements of both sets that are not in common with each other will be shown"
   ]
  },
  {
   "cell_type": "code",
   "execution_count": 25,
   "id": "2d47954f",
   "metadata": {},
   "outputs": [
    {
     "data": {
      "text/plain": [
       "{21, 43, 55}"
      ]
     },
     "execution_count": 25,
     "metadata": {},
     "output_type": "execute_result"
    }
   ],
   "source": [
    "set1={33,22,77,44}\n",
    "set2={33,55,21,43,22,77,44}\n",
    "set1^set2"
   ]
  },
  {
   "cell_type": "markdown",
   "id": "fa97b336",
   "metadata": {},
   "source": [
    "# .isdisjoint()\n",
    "## returns True if no items in Set A is present in Set B"
   ]
  },
  {
   "cell_type": "code",
   "execution_count": 26,
   "id": "024a9554",
   "metadata": {},
   "outputs": [
    {
     "data": {
      "text/plain": [
       "False"
      ]
     },
     "execution_count": 26,
     "metadata": {},
     "output_type": "execute_result"
    }
   ],
   "source": [
    "set1={33,22,77,44}\n",
    "set2={33,55,21,43,22,77,44}\n",
    "set1.isdisjoint(set2)"
   ]
  },
  {
   "cell_type": "code",
   "execution_count": 27,
   "id": "c39ed840",
   "metadata": {},
   "outputs": [
    {
     "data": {
      "text/plain": [
       "False"
      ]
     },
     "execution_count": 27,
     "metadata": {},
     "output_type": "execute_result"
    }
   ],
   "source": [
    "set2.isdisjoint(set1)"
   ]
  },
  {
   "cell_type": "markdown",
   "id": "83554de4",
   "metadata": {},
   "source": [
    "# intersection_update(&=)\n",
    "## method removes the items that is not present in both sets"
   ]
  },
  {
   "cell_type": "code",
   "execution_count": 29,
   "id": "70ced5ea",
   "metadata": {},
   "outputs": [
    {
     "name": "stdout",
     "output_type": "stream",
     "text": [
      "{33, 44, 77, 22}\n"
     ]
    }
   ],
   "source": [
    "set1a={33,22,77,44}\n",
    "set2a={33,55,21,43,22,77,44}\n",
    "set1a&=set2a\n",
    "print(set1a)"
   ]
  },
  {
   "cell_type": "markdown",
   "id": "e96e76e8",
   "metadata": {},
   "source": [
    "# symmetric_difference (^=)\n",
    "## method returns a set that contains all items from both set, but not the items that are present in both sets"
   ]
  },
  {
   "cell_type": "code",
   "execution_count": 31,
   "id": "e5ba643e",
   "metadata": {},
   "outputs": [
    {
     "name": "stdout",
     "output_type": "stream",
     "text": [
      "{43, 21, 55}\n"
     ]
    }
   ],
   "source": [
    "set1b={33,22,77,44}\n",
    "set2b={33,55,21,43,22,77,44}\n",
    "set1b^=set2b\n",
    "print(set1b)"
   ]
  },
  {
   "cell_type": "markdown",
   "id": "b4c07737",
   "metadata": {},
   "source": [
    "# remove(), discard(), pop()\n",
    "## remove an item from a set (discard generates no error)\n",
    "### pop removes the last element"
   ]
  },
  {
   "cell_type": "code",
   "execution_count": 32,
   "id": "4855da2a",
   "metadata": {},
   "outputs": [
    {
     "data": {
      "text/plain": [
       "{22, 44, 77}"
      ]
     },
     "execution_count": 32,
     "metadata": {},
     "output_type": "execute_result"
    }
   ],
   "source": [
    "set1={33,22,77,44}\n",
    "set2={33,55,21,43,22,77,44}\n",
    "set1.remove(33)\n",
    "set1"
   ]
  },
  {
   "cell_type": "code",
   "execution_count": 34,
   "id": "244bfc75",
   "metadata": {},
   "outputs": [
    {
     "data": {
      "text/plain": [
       "{22, 77}"
      ]
     },
     "execution_count": 34,
     "metadata": {},
     "output_type": "execute_result"
    }
   ],
   "source": [
    "set1.discard(44)\n",
    "set1"
   ]
  },
  {
   "cell_type": "code",
   "execution_count": 35,
   "id": "4bec0b48",
   "metadata": {},
   "outputs": [
    {
     "data": {
      "text/plain": [
       "{21, 22, 43, 44, 55, 77}"
      ]
     },
     "execution_count": 35,
     "metadata": {},
     "output_type": "execute_result"
    }
   ],
   "source": [
    "set2.pop()\n",
    "set2"
   ]
  }
 ],
 "metadata": {
  "kernelspec": {
   "display_name": "Python 3",
   "language": "python",
   "name": "python3"
  },
  "language_info": {
   "codemirror_mode": {
    "name": "ipython",
    "version": 3
   },
   "file_extension": ".py",
   "mimetype": "text/x-python",
   "name": "python",
   "nbconvert_exporter": "python",
   "pygments_lexer": "ipython3",
   "version": "3.8.8"
  }
 },
 "nbformat": 4,
 "nbformat_minor": 5
}
